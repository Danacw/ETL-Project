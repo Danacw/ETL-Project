{
 "cells": [
  {
   "cell_type": "code",
   "execution_count": null,
   "metadata": {},
   "outputs": [],
   "source": [
    "import pandas as pd\n",
    "from sqlalchemy import create_engine"
   ]
  },
  {
   "cell_type": "markdown",
   "metadata": {},
   "source": [
    "### Extract CSVs into DataFrames"
   ]
  },
  {
   "cell_type": "code",
   "execution_count": null,
   "metadata": {},
   "outputs": [],
   "source": [
    "kcal_file = \"Resources/Food_Supply_kcal_Data.csv\"\n",
    "kcal_df = pd.read_csv(kcal_file)\n",
    "\n",
    "kg_file = \"Resources/Food_Supply_Quantity_kg_Data.csv\"\n",
    "kg_df = pd.read_csv(kg_file)\n",
    "kg_df.head()\n",
    "\n",
    "protein_file = \"Resources/Protein_Supply_Quantity_Data.csv\"\n",
    "protein_df = pd.read_csv(protein_file)\n",
    "protein_df.head()\n",
    "\n",
    "\n",
    "fat_file = \"Resources/Fat_Supply_Quantity_Data.csv\"\n",
    "fat_df = pd.read_csv(fat_file)\n",
    "fat_df.head()"
   ]
  },
  {
   "cell_type": "markdown",
   "metadata": {},
   "source": [
    "### Transform kcal DataFrame"
   ]
  },
  {
   "cell_type": "code",
   "execution_count": null,
   "metadata": {},
   "outputs": [],
   "source": [
    "food_cols = [\"Country\", \"Animal Products\", \"Cereals - Excluding Beer\", \"Eggs\", \"Fruits - Excluding Wine\", \\\n",
    "             \"Meat\", \"Milk - Excluding Butter\", \"Fish, Seafood\", \"Vegetables\"]\n",
    "\n",
    "transformed_kg = kg_df[food_cols].copy()\n",
    "transformed_fat = fat_df[food_cols].copy()\n",
    "transformed_protein = fat_df[food_cols].copy()\n",
    "transformed_kcal = kcal_df[food_cols].copy()\n",
    "\n",
    "\n",
    "transformed_kcal"
   ]
  },
  {
   "cell_type": "code",
   "execution_count": null,
   "metadata": {},
   "outputs": [],
   "source": [
    "# Rename the column headers\n",
    "transformed_kg = transformed_kg.rename(columns={\"Country\":\"country\", \"Animal Products\": \"animal_products\",\n",
    "                                                       \"Cereals - Excluding Beer\": \"cereals\", \"Eggs\": \"eggs\",\n",
    "                                                       \"Fruits - Excluding Wine\": \"fruits\", \"Meat\": \"meat\",\n",
    "                                                      \"Milk - Excluding Butter\": \"milk\", \"Fish, Seafood\": \"fish_seafood\",\n",
    "                                                           \"Vegetables\":\"vegetables\"})\n",
    "\n",
    "transformed_kcal = transformed_kcal.rename(columns={\"Country\":\"country\", \"Animal Products\": \"animal_products\",\n",
    "                                                       \"Cereals - Excluding Beer\": \"cereals\", \"Eggs\": \"eggs\",\n",
    "                                                       \"Fruits - Excluding Wine\": \"fruits\", \"Meat\": \"meat\",\n",
    "                                                      \"Milk - Excluding Butter\": \"milk\", \"Fish, Seafood\": \"fish_seafood\",\n",
    "                                                           \"Vegetables\":\"vegetables\"})\n",
    "\n",
    "transformed_fat = transformed_fat.rename(columns={\"Country\":\"country\", \"Animal Products\": \"animal_products\",\n",
    "                                                       \"Cereals - Excluding Beer\": \"cereals\", \"Eggs\": \"eggs\",\n",
    "                                                       \"Fruits - Excluding Wine\": \"fruits\", \"Meat\": \"meat\",\n",
    "                                                      \"Milk - Excluding Butter\": \"milk\", \"Fish, Seafood\": \"fish_seafood\",\n",
    "                                                           \"Vegetables\":\"vegetables\"})\n",
    "\n",
    "transformed_protein = transformed_protein.rename(columns={\"Country\":\"country\", \"Animal Products\": \"animal_products\",\n",
    "                                                       \"Cereals - Excluding Beer\": \"cereals\", \"Eggs\": \"eggs\",\n",
    "                                                       \"Fruits - Excluding Wine\": \"fruits\", \"Meat\": \"meat\",\n",
    "                                                      \"Milk - Excluding Butter\": \"milk\", \"Fish, Seafood\": \"fish_seafood\",\n",
    "                                                           \"Vegetables\":\"vegetables\"})\n",
    "transformed_kg"
   ]
  },
  {
   "cell_type": "code",
   "execution_count": null,
   "metadata": {},
   "outputs": [],
   "source": [
    "#Set index of table to Country\n",
    "transformed_fat.set_index('country', inplace=True)\n",
    "transformed_protein.set_index('country', inplace=True)\n",
    "transformed_kg.set_index('country', inplace=True)\n",
    "transformed_kcal.set_index('country', inplace=True)\n"
   ]
  },
  {
   "cell_type": "markdown",
   "metadata": {},
   "source": [
    "### Create Connection to Database"
   ]
  },
  {
   "cell_type": "code",
   "execution_count": null,
   "metadata": {},
   "outputs": [],
   "source": [
    "connection_string = \"postgres:lakers7@localhost:5432/Project2\"\n",
    "engine = create_engine(f'postgresql://{connection_string}')"
   ]
  },
  {
   "cell_type": "code",
   "execution_count": null,
   "metadata": {},
   "outputs": [],
   "source": [
    "# Confirm tables\n",
    "engine.table_names()"
   ]
  },
  {
   "cell_type": "markdown",
   "metadata": {},
   "source": [
    "### Load Dataframe into SQL"
   ]
  },
  {
   "cell_type": "code",
   "execution_count": null,
   "metadata": {},
   "outputs": [],
   "source": [
    "transformed_kg.to_sql(name='food_quantity', con=engine, if_exists='append', index=True)"
   ]
  },
  {
   "cell_type": "code",
   "execution_count": null,
   "metadata": {},
   "outputs": [],
   "source": [
    "transformed_fat.to_sql(name='fat_quant', con=engine, if_exists='append', index=True)"
   ]
  },
  {
   "cell_type": "code",
   "execution_count": null,
   "metadata": {},
   "outputs": [],
   "source": [
    "transformed_protein.to_sql(name='protein_quant', con=engine, if_exists='append', index=True)"
   ]
  },
  {
   "cell_type": "code",
   "execution_count": null,
   "metadata": {},
   "outputs": [],
   "source": [
    "transformed_kcal.to_sql(name='food_kcal', con=engine, if_exists='append', index=True)"
   ]
  }
 ],
 "metadata": {
  "kernelspec": {
   "display_name": "Python [conda env:PythonData] *",
   "language": "python",
   "name": "conda-env-PythonData-py"
  },
  "language_info": {
   "codemirror_mode": {
    "name": "ipython",
    "version": 3
   },
   "file_extension": ".py",
   "mimetype": "text/x-python",
   "name": "python",
   "nbconvert_exporter": "python",
   "pygments_lexer": "ipython3",
   "version": "3.6.10"
  }
 },
 "nbformat": 4,
 "nbformat_minor": 5
}
